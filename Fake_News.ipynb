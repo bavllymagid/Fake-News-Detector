{
 "cells": [
  {
   "cell_type": "markdown",
   "metadata": {},
   "source": [
    "# Preparing Data"
   ]
  },
  {
   "cell_type": "code",
   "execution_count": null,
   "metadata": {},
   "outputs": [],
   "source": [
    "import pandas as pd\n",
    "data = pd.read_csv('news.csv')\n",
    "\n",
    "data.drop('Unnamed: 0', inplace=True, axis=1)\n",
    "data.dropna(inplace=True)\n",
    "\n",
    "label_trans = lambda i: 0 if i == 'FAKE' else 1\n",
    "\n",
    "data.label = data.label.apply(label_trans)\n",
    "y = data['label']\n",
    "\n",
    "raw_text = data.text + data.title\n",
    "\n",
    "raw_text"
   ]
  },
  {
   "cell_type": "markdown",
   "metadata": {},
   "source": [
    "# Stemming"
   ]
  },
  {
   "cell_type": "code",
   "execution_count": null,
   "metadata": {},
   "outputs": [],
   "source": [
    "from nltk.stem import PorterStemmer\n",
    "ps = PorterStemmer()\n",
    "raw_text = [[ps.stem(word) for word in sentence.split(\" \")] for sentence in raw_text]\n",
    "\n",
    "raw_text"
   ]
  },
  {
   "cell_type": "markdown",
   "metadata": {},
   "source": [
    "# Tokenization and Stop words and punctuation removal"
   ]
  },
  {
   "cell_type": "code",
   "execution_count": null,
   "metadata": {},
   "outputs": [],
   "source": [
    "\n",
    "from string import punctuation\n",
    "import nltk\n",
    "# nltk.download('punkt')\n",
    "# nltk.download('stopwords')\n",
    "\n",
    "def tokenize_and_stop_word_remove(text) :\n",
    "    tokenized = [nltk.word_tokenize(str(token)) for token in text]\n",
    "    stop_words = nltk.corpus.stopwords.words('english')\n",
    "    stop_words.append(\"“\")\n",
    "    stop_words.append(\"”\")\n",
    "    stop_words.append(\"’\")\n",
    "    stop_words.append(\"‘\")\n",
    "    stop_words.append(\"—\")\n",
    "    new_list = [[token.lower() for token in tlist if token not in punctuation \n",
    "                 and token.lower() not in stop_words] for tlist in tokenized]\n",
    "    return new_list\n",
    "\n",
    "\n",
    "filtered_sentence = tokenize_and_stop_word_remove(raw_text)\n",
    "\n",
    "filtered_sentence"
   ]
  },
  {
   "cell_type": "markdown",
   "metadata": {},
   "source": [
    "# Feature Extraction"
   ]
  },
  {
   "cell_type": "code",
   "execution_count": null,
   "metadata": {},
   "outputs": [],
   "source": [
    "import numpy as np\n",
    "from gensim.models import Word2Vec\n",
    "\n",
    "word_model = Word2Vec(filtered_sentence, min_count = 1, \n",
    "                      window = 5, sg = 1)\n",
    "word_vectors = np.zeros((len(data), 100))\n",
    "\n",
    "def vectors_build(word_vectors, cleaned, word_model, length):\n",
    "    for i in range(0, length):\n",
    "        word_vectors[i] = 0\n",
    "        for word in cleaned[i]:\n",
    "            word_vectors[i] += word_model.wv[word]\n",
    "    return word_vectors\n",
    "\n",
    "\n",
    "word_vectors = vectors_build(word_vectors, filtered_sentence, word_model, len(data))\n",
    "\n",
    "word_vectors"
   ]
  },
  {
   "cell_type": "markdown",
   "metadata": {},
   "source": [
    "# Model Training"
   ]
  },
  {
   "cell_type": "code",
   "execution_count": 9,
   "metadata": {},
   "outputs": [
    {
     "name": "stdout",
     "output_type": "stream",
     "text": [
      "Accuracy :  0.9331930562861652\n",
      "              precision    recall  f1-score   support\n",
      "\n",
      "        Fake       0.93      0.94      0.93       968\n",
      "        Real       0.93      0.93      0.93       933\n",
      "\n",
      "    accuracy                           0.93      1901\n",
      "   macro avg       0.93      0.93      0.93      1901\n",
      "weighted avg       0.93      0.93      0.93      1901\n",
      "\n"
     ]
    }
   ],
   "source": [
    "\n",
    "from sklearn.linear_model import LogisticRegression\n",
    "from sklearn.model_selection import train_test_split\n",
    "from sklearn.metrics import *\n",
    "import matplotlib.pyplot as plt\n",
    "import warnings\n",
    "warnings.filterwarnings(\"ignore\")\n",
    "\n",
    "\n",
    "\n",
    "\n",
    "X_train, X_test, Y_train, Y_test = train_test_split(word_vectors, y, test_size=0.3 , shuffle= True, random_state=42)\n",
    "model = LogisticRegression(C=0.01, penalty='l1', solver='liblinear').fit(X_train, Y_train)\n",
    "y_pred = model.predict(X_test)\n",
    "\n",
    "print(\"Accuracy : \",accuracy_score(Y_test, y_pred))\n",
    "print(classification_report(Y_test, y_pred, target_names=['Fake', 'Real']))\n",
    "\n",
    "\n"
   ]
  },
  {
   "cell_type": "markdown",
   "metadata": {},
   "source": [
    "# Hyperparameter Tuning"
   ]
  },
  {
   "cell_type": "code",
   "execution_count": 15,
   "metadata": {},
   "outputs": [
    {
     "name": "stdout",
     "output_type": "stream",
     "text": [
      "Fitting 3 folds for each of 60 candidates, totalling 180 fits\n",
      "{'C': 0.01, 'penalty': 'l1', 'solver': 'liblinear'}\n",
      "LogisticRegression(C=0.01, penalty='l1', solver='liblinear')\n"
     ]
    }
   ],
   "source": [
    "from sklearn.model_selection import GridSearchCV\n",
    "grid_params = {'solver': ['newton-cg', 'lbfgs', 'liblinear'],\n",
    "                   'penalty':  ['none', 'l1', 'l2', 'elasticnet'],\n",
    "                   'C': [100, 10, 1.0, 0.1, 0.01]}\n",
    "gs = GridSearchCV(LogisticRegression(), grid_params, verbose=1, cv=3, n_jobs=-1)\n",
    "g_res = gs.fit(X_train, Y_train)\n",
    "print(g_res.best_params_)\n",
    "print(g_res.best_estimator_) "
   ]
  },
  {
   "cell_type": "markdown",
   "metadata": {},
   "source": [
    "# Ploting Values"
   ]
  },
  {
   "cell_type": "code",
   "execution_count": 10,
   "metadata": {},
   "outputs": [
    {
     "data": {
      "image/png": "[encoded data removed]",
      "text/plain": [
       "<Figure size 432x288 with 1 Axes>"
      ]
     },
     "metadata": {},
     "output_type": "display_data"
    },
    {
     "data": {
      "image/png": "[encoded data removed]",
      "text/plain": [
       "<Figure size 432x288 with 1 Axes>"
      ]
     },
     "metadata": {},
     "output_type": "display_data"
    }
   ],
   "source": [
    "import seaborn as sns  \n",
    "import matplotlib.pyplot as plt\n",
    "\n",
    "sns.set(style=\"whitegrid\")\n",
    "ax = sns.countplot(Y_test, hue=y_pred)\n",
    "ax.set_title('Prediction vs Actual')\n",
    "ax.set_xlabel('Actual')\n",
    "ax.set_ylabel('Prediction')\n",
    "ax.xaxis.set_ticklabels(['Fake', 'Real']); ax.yaxis.set_ticklabels(['Fake', 'Real']);\n",
    "plt.show()\n",
    "\n",
    "def plot_graph(y_test, y_pred, regressorName):\n",
    "    if max(y_test) >= max(y_pred):\n",
    "        my_range = int(max(y_test))\n",
    "    else:\n",
    "        my_range = int(max(y_pred))\n",
    "    plt.scatter(range(len(y_test)), y_test, color='blue')\n",
    "    plt.scatter(range(len(y_pred)), y_pred, color='red')\n",
    "    plt.title(regressorName)\n",
    "    plt.show()\n",
    "    return\n",
    "\n",
    "plot_graph(Y_test, y_pred, \"Logistic Regression\")"
   ]
  },
  {
   "cell_type": "code",
   "execution_count": 12,
   "metadata": {},
   "outputs": [
    {
     "data": {
      "image/png": "[encoded data removed]",
      "text/plain": [
       "<Figure size 432x288 with 2 Axes>"
      ]
     },
     "metadata": {},
     "output_type": "display_data"
    }
   ],
   "source": [
    "conf_matrix = confusion_matrix(y_true=Y_test, y_pred=y_pred)\n",
    "\n",
    "import seaborn as sns\n",
    "import matplotlib.pyplot as plt     \n",
    "\n",
    "ax= plt.subplot()\n",
    "sns.heatmap(conf_matrix, annot=True, fmt='g', ax=ax);  #annot=True to annotate cells, ftm='g' to disable scientific notation\n",
    "\n",
    "# labels, title and ticks\n",
    "ax.set_xlabel('Predicted labels');ax.set_ylabel('True labels'); \n",
    "ax.set_title('Confusion Matrix'); \n",
    "ax.xaxis.set_ticklabels(['Fake', 'Real']); ax.yaxis.set_ticklabels(['Fake', 'Real']);"
   ]
  }
 ],
 "metadata": {
  "interpreter": {
   "hash": "b06e504c803182a9a83674c6756569682e6bf425c9f427e1b80534c5f19c23e1"
  },
  "kernelspec": {
   "display_name": "Python 3.9.7 ('NLP')",
   "language": "python",
   "name": "python3"
  },
  "language_info": {
   "codemirror_mode": {
    "name": "ipython",
    "version": 3
   },
   "file_extension": ".py",
   "mimetype": "text/x-python",
   "name": "python",
   "nbconvert_exporter": "python",
   "pygments_lexer": "ipython3",
   "version": "3.9.7"
  },
  "orig_nbformat": 4
 },
 "nbformat": 4,
 "nbformat_minor": 2
}
